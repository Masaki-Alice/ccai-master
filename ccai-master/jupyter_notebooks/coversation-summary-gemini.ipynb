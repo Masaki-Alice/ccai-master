{
 "cells": [
  {
   "cell_type": "code",
   "execution_count": 3,
   "metadata": {},
   "outputs": [],
   "source": [
    "file = open(\"../data/sentiment-analysis/negative-angry-customer-en.json\", \"r\")\n",
    "# file = open(\"../data/sentiment-analysis/positive-en.json\", \"r\")\n",
    "# file = open(\"../data/sentiment-analysis/audio-issues.json\", \"r\")\n",
    "# file = open(\"../data/sentiment-analysis/knowledge-gaps.json\", \"r\")\n",
    "PAYLOAD = file.read()\n",
    "file.close()\n",
    "\n",
    "PROMPT = f\"\"\"\n",
    "    PERSONA:\n",
    "    You are a world class language specialist.\n",
    "    \n",
    "    TASK:\n",
    "    You have been provided with the following conversation in JON format delimited with <conversation> and </conversation>:\n",
    "    <conversation>\n",
    "    {PAYLOAD}\n",
    "    </conversation>\n",
    "    Read thru each line of the conversation and make sure you understand the context correctly.\n",
    "    In one paragraph, generate a concise summarization of the whole conversation.\n",
    "    \n",
    "\"\"\".strip()\n",
    "\n",
    "## PROMPT RE-READ STRATEGY\n",
    "PROMPT = f\"\"\"\n",
    "{PROMPT}\n",
    "Read the task again.\n",
    "{PROMPT}\n",
    "\"\"\"\n",
    "\n",
    "# print(PROMPT)"
   ]
  },
  {
   "cell_type": "code",
   "execution_count": 4,
   "metadata": {},
   "outputs": [
    {
     "name": "stdout",
     "output_type": "stream",
     "text": [
      "This conversation is a script for three roleplay scenarios involving angry customers calling a call center.  In the first scenario, the customer is upset about an erroneous late fee on their account. The second scenario features a customer moving overseas who wishes to cancel their service and encounters bureaucratic hurdles. Finally, the third scenario depicts a frustrated customer dealing with an internet outage, highlighting the customer's urgency and the agent's attempts to placate them. \n",
      "\n"
     ]
    }
   ],
   "source": [
    "import vertexai\n",
    "from vertexai.generative_models import (\n",
    "    GenerativeModel,\n",
    "    Part,\n",
    "    GenerationConfig,\n",
    "    HarmCategory,\n",
    "    HarmBlockThreshold,\n",
    "    SafetySetting,\n",
    ")\n",
    "import sys\n",
    "import json\n",
    "import base64\n",
    "\n",
    "project = \"ccai-dev-project\"\n",
    "location = \"europe-west3\"\n",
    "\n",
    "# Initialize Vertex AI\n",
    "vertexai.init(project=project, location=location)\n",
    "\n",
    "safety_config = [\n",
    "    SafetySetting(\n",
    "        category=HarmCategory.HARM_CATEGORY_DANGEROUS_CONTENT,\n",
    "        threshold=HarmBlockThreshold.BLOCK_ONLY_HIGH,\n",
    "    ),\n",
    "    SafetySetting(\n",
    "        category=HarmCategory.HARM_CATEGORY_HARASSMENT,\n",
    "        threshold=HarmBlockThreshold.BLOCK_ONLY_HIGH,\n",
    "    ),\n",
    "    SafetySetting(\n",
    "        category=HarmCategory.HARM_CATEGORY_HATE_SPEECH,\n",
    "        threshold=HarmBlockThreshold.BLOCK_ONLY_HIGH,\n",
    "    ),\n",
    "    SafetySetting(\n",
    "        category=HarmCategory.HARM_CATEGORY_SEXUALLY_EXPLICIT,\n",
    "        threshold=HarmBlockThreshold.BLOCK_ONLY_HIGH,\n",
    "    ),\n",
    "]\n",
    "\n",
    "generation_config = GenerationConfig(max_output_tokens=8000)\n",
    "\n",
    "model = GenerativeModel(model_name=\"gemini-1.5-pro-preview-0514\")\n",
    "\n",
    "# Build prompt scenario\n",
    "prompt = PROMPT\n",
    "\n",
    "# Execute inference\n",
    "response = model.generate_content(\n",
    "    [prompt],\n",
    "    generation_config=generation_config,\n",
    "    safety_settings=safety_config,\n",
    ")\n",
    "\n",
    "# Embed model metadata in JSON response\n",
    "response = response.text.replace(\"```json\", \"\").replace(\"```\", \"\")\n",
    "print(response)"
   ]
  }
 ],
 "metadata": {
  "kernelspec": {
   "display_name": "base",
   "language": "python",
   "name": "python3"
  },
  "language_info": {
   "codemirror_mode": {
    "name": "ipython",
    "version": 3
   },
   "file_extension": ".py",
   "mimetype": "text/x-python",
   "name": "python",
   "nbconvert_exporter": "python",
   "pygments_lexer": "ipython3",
   "version": "3.9.2"
  }
 },
 "nbformat": 4,
 "nbformat_minor": 2
}
