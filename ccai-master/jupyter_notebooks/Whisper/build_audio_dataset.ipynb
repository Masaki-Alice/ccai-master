{
 "cells": [
  {
   "cell_type": "markdown",
   "metadata": {},
   "source": [
    "### Download audio dataset\n",
    "\n",
    "Install all the required libraries. Since we are working with `conda`, some packages may be missing from the `default` or `conda-forge` channels.\n",
    "\n",
    "It is okay to use `pip`(Pypi) here (sparingly), just be aware that these packages WILL NOT be managed by `conda` and sometimes may even ovewrite conda packages or change version dependencies.\n",
    "\n",
    "If you encounter errors, **be warned, you are on your own**.\n"
   ]
  },
  {
   "cell_type": "code",
   "execution_count": null,
   "metadata": {},
   "outputs": [],
   "source": [
    "# %conda install ffmpeg-python pandas pytube pandas librosa pydub python-slugify\n",
    "# %pip install snowflake-id shutils pandas librosa soundfile"
   ]
  },
  {
   "cell_type": "code",
   "execution_count": null,
   "metadata": {},
   "outputs": [],
   "source": [
    "import os, shutil\n",
    "import pandas as pd\n",
    "from pytube import YouTube\n",
    "import ffmpeg\n",
    "import sys\n",
    "import random\n",
    "\n",
    "sys.path.append(\"../\")  # Add parent directory to module path\n",
    "# from lib.audio import download_audio_from_youtube\n",
    "from slugify import slugify\n",
    "from lib.audio import write_file"
   ]
  },
  {
   "cell_type": "markdown",
   "metadata": {},
   "source": [
    "A curated list of the final training data is available here:\n",
    "<https://docs.google.com/spreadsheets/d/1i9oqSglSlu7n8giT51MvJnzt1duhZ3jr6NU0c_HJPB0/edit#gid=0>\n",
    "\n",
    "Please update the `media_source` as needed before extracting the media files\n"
   ]
  },
  {
   "cell_type": "code",
   "execution_count": null,
   "metadata": {},
   "outputs": [],
   "source": [
    "def process_audio(output_dir, source_file):\n",
    "    \"\"\"\n",
    "    Convert audio file from webm to mp3 using ffmpeg.\n",
    "\n",
    "    Parameters:\n",
    "    - output_dir: str, the path where the output file will be saved\n",
    "    - source_file: str, the name of the source audio file without extension\n",
    "\n",
    "    Returns:\n",
    "    str, the name of the final MP3 file\n",
    "    \"\"\"\n",
    "    source_path = f\"{output_dir}/{source_file}\"\n",
    "    final_path = f\"{output_dir}/{source_file}.mp3\"\n",
    "    kw_args = {\"ar\": \"16000\", \"acodec\": \"libmp3lame\", \"loglevel\": \"panic\"}\n",
    "    ffmpeg.input(source_path).filter(\"loudnorm\").output(final_path, **kw_args).run()\n",
    "\n",
    "    return final_path\n",
    "\n",
    "\n",
    "def download_audio_from_youtube(video_url, output_dir):\n",
    "    \"\"\"\n",
    "    Download audio from a YouTube video given the video URL and output path.\n",
    "    :param video_url: The URL of the YouTube video.\n",
    "    :param output_dir: The path where the audio file will be saved.\n",
    "    :return: The processed audio file path if successful, None otherwise.\n",
    "    \"\"\"\n",
    "    try:\n",
    "        # Download  WebM audio stream from YouTube link\n",
    "        ytVideo = YouTube(video_url)\n",
    "        stream = ytVideo.streams.get_by_itag(251)  # WebM audio stream\n",
    "        unik = random.randint(1, 99999999)\n",
    "        dest_file = f\"{unik}_{slugify(stream.title)}.webm\"\n",
    "\n",
    "        stream.download(output_path=output_dir, filename=dest_file, skip_existing=True)\n",
    "\n",
    "        # Post-process audio stream to MP3 file\n",
    "        final_file = process_audio(output_dir, dest_file)\n",
    "\n",
    "        # Cleanup\n",
    "        os.unlink(f\"{output_dir}/{dest_file}\")\n",
    "\n",
    "        return final_file, stream.default_filename\n",
    "\n",
    "    except Exception as error:\n",
    "        line = f\"{video_url} => {error}\\n\"\n",
    "        write_file(\"invalid_youtube_links.txt\", line)\n",
    "        print(f\"ERROR => Cannot acquire audio: {line} => {error}\")\n",
    "        return None, None"
   ]
  },
  {
   "cell_type": "code",
   "execution_count": null,
   "metadata": {},
   "outputs": [],
   "source": [
    "# Lets define some runtime variables here\n",
    "SAMPLING_RATE = 16000\n",
    "PARENT_FOLDER = \"..\"\n",
    "MEDIA_SOURCE = f\"{PARENT_FOLDER}/origins/videos.csv\"\n",
    "OUTPUT_DIR = f\"{PARENT_FOLDER}/swanglish_dataset\""
   ]
  },
  {
   "cell_type": "code",
<<<<<<< HEAD
<<<<<<< HEAD
<<<<<<< HEAD
   "execution_count": null,
   "metadata": {},
   "outputs": [],
=======
=======
>>>>>>> 1ddd20f (Improving audio segmentation script)
=======
>>>>>>> 11fcaa0 (Improving audio segmentation script)
<<<<<<< HEAD
   "execution_count": 5,
   "metadata": {},
   "outputs": [
    {
     "name": "stdout",
     "output_type": "stream",
     "text": [
      "START => Extracting https://www.youtube.com/watch?v=KqD9emPV8aYSTART => Extracting https://www.youtube.com/watch?v=5sODCCwg42wSTART => Extracting https://www.youtube.com/watch?v=geyyAZ46hOsSTART => Extracting https://www.youtube.com/watch?v=voaJasx9evISTART => Extracting https://www.youtube.com/watch?v=7ix5jbCmiDUSTART => Extracting https://www.youtube.com/watch?v=xmMfrIVufq4\n",
      "START => Extracting https://www.youtube.com/watch?v=jTpMrlMPTn4\n",
      "\n",
      "\n",
      "\n",
      "\n",
      "START => Extracting https://www.youtube.com/watch?v=YvRI_XWC5CISTART => Extracting https://www.youtube.com/watch?v=L6UumnxKBrsSTART => Extracting https://www.youtube.com/watch?v=dmzz_J9VsS8START => Extracting https://www.youtube.com/watch?v=vpAiP8Yee6s\n",
      "START => Extracting https://www.youtube.com/watch?v=wbSEy7mzsvASTART => Extracting https://www.youtube.com/watch?v=Isqfm3Ypo1USTART => Extracting https://www.youtube.com/watch?v=bs5YjWxubmI\n",
      "\n",
      "START => Extracting https://www.youtube.com/watch?v=NVPj5q2YTTESTART => Extracting https://www.youtube.com/watch?v=REH_Ocv_hcc\n",
      "\n",
      "\n",
      "\n",
      "\n",
      "\n",
      "\n"
     ]
    },
    {
     "name": "stdout",
     "output_type": "stream",
     "text": [
      "OK => Saved ../swanglish_dataset/raw/54919844_1326-a-journey-of-transitioning-from-dancer-to-musician-savara-sautisol-theplayhouse.webm.mp3\n",
      "START => Extracting https://www.youtube.com/watch?v=dgUrumRbOQk\n",
      "OK => Saved ../swanglish_dataset/raw/87769188_self-made-ke-millionaire-agrees-to-share-how-to-compound-ksh-1-million-from-ksh-20000.webm.mp3\n",
      "START => Extracting https://www.youtube.com/watch?v=S2uUW0AwhvA\n",
      "OK => Saved ../swanglish_dataset/raw/96194689_q-and-a-with-nikita-kering-could-she-be-the-one-for-me.webm.mp3\n",
      "START => Extracting https://www.youtube.com/watch?v=T7xEuF2XNHg\n",
      "OK => Saved ../swanglish_dataset/raw/47543120_how-i-ended-up-in-content-creation-earning-millions-out-of-it-murugi-munyi-shares-her-story.webm.mp3\n",
      "START => Extracting https://www.youtube.com/watch?v=hbUscssP4EI\n",
      "OK => Saved ../swanglish_dataset/raw/16836812_heres-what-happened-that-night.webm.mp3\n",
      "START => Extracting https://www.youtube.com/watch?v=4W54DQqWb1c\n",
      "OK => Saved ../swanglish_dataset/raw/27162554_not-gonna-lie-dating-in-nairobi-is-wild.webm.mp3\n",
      "START => Extracting https://www.youtube.com/watch?v=agNvI24ctiA&list=PLTcSrz4JaoGFaAGVY9Q0-iVnBAedxtKbx&index=2\n",
      "OK => Saved ../swanglish_dataset/raw/9083795_bullying-in-alliance-girls-storytime.webm.mp3\n",
      "START => Extracting https://www.youtube.com/watch?v=2XrO-Sp5sHs\n",
      "OK => Saved ../swanglish_dataset/raw/7388931_living-with-hiv-aids-has-been-hell-tiktoker-brian-chirah-opens-up-emotionally.webm.mp3\n",
      "START => Extracting https://www.youtube.com/watch?v=X4-bJOq9OU4\n",
      "OK => Saved ../swanglish_dataset/raw/88752217_day-break-speaker-moses-wetangula-and-governor-george-natembeya-s-feud-intensifies.webm.mp3\n",
      "START => Extracting https://www.youtube.com/watch?v=sw7nCA3DsbY\n",
      "OK => Saved ../swanglish_dataset/raw/83327215_school-life-conversation-mumbus-norah.webm.mp3\n",
      "START => Extracting https://www.youtube.com/watch?v=rpj9UMPBT-U&list=PLTcSrz4JaoGHSlu9WYu2yHHjg7LZKWxum\n",
      "OK => Saved ../swanglish_dataset/raw/63895522_the-baby-stealers-bbc-africa-eye-documentary.webm.mp3\n",
      "START => Extracting https://www.youtube.com/watch?v=D6v2XYqMmto\n",
      "OK => Saved ../swanglish_dataset/raw/91352203_why-you-can-t-maintain-a-healthy-relationship-with-anyone-work-on-you.webm.mp3\n",
      "START => Extracting https://www.youtube.com/watch?v=1qwigquIN60\n",
      "OK => Saved ../swanglish_dataset/raw/32083060_modern-parenting-101-cele-s-reflection.webm.mp3\n",
      "START => Extracting https://www.youtube.com/watch?v=h85BJVy79LM\n",
      "OK => Saved ../swanglish_dataset/raw/61591247_lil-maina-answers-gk-nyamburas-weird-questions.webm.mp3\n",
      "START => Extracting https://www.youtube.com/watch?v=0s1PlO95-cg\n",
      "OK => Saved ../swanglish_dataset/raw/19204358_maintaining-attraction-beyond-the-honeymoon-phase-ft-soila-curtis-mojji-nyawira-part-2.webm.mp3\n",
      "START => Extracting https://www.youtube.com/watch?v=SOMkJKHeaDo\n",
      "OK => Saved ../swanglish_dataset/raw/14200501_1443-my-childhood-upbringing-j-blessing-jibrilblessing-theplayhouse.webm.mp3\n",
      "START => Extracting https://www.youtube.com/watch?v=KGYz_7UYunc\n",
      "OK => Saved ../swanglish_dataset/raw/30118876_kk-is-thriving-in-pr-propaganda-ruto-should-dissolve-his-entire-cabinet-alfred-keter.webm.mp3\n",
      "START => Extracting https://www.youtube.com/watch?v=6nH8ylbiP_0\n",
      "OK => Saved ../swanglish_dataset/raw/55516970_i-started-my-fashion-brand-with-200-shillings-only-cris-njoki-founder-ikojn-live.webm.mp3\n",
      "START => Extracting https://www.youtube.com/watch?v=TgwXlLfZsZg\n",
      "OK => Saved ../swanglish_dataset/raw/4923724_why-just-because-she-is-religious-is-not-enough.webm.mp3\n",
      "START => Extracting https://www.youtube.com/watch?v=_F0WwvaSxOQ\n",
      "OK => Saved ../swanglish_dataset/raw/98078235_976-my-childhood-experience-mayonde-the-play-house.webm.mp3\n",
      "START => Extracting https://www.youtube.com/watch?v=jDotnsEjgOg\n",
      "OK => Saved ../swanglish_dataset/raw/63731699_kodong-kodong-ft-okello-max.webm.mp3\n",
      "START => Extracting https://www.youtube.com/watch?v=rafKy2XxoMg\n",
      "OK => Saved ../swanglish_dataset/raw/19948498_world-s-most-dangerous-roads-kenya-the-flying-trucks-of-kenya-free-documentary.webm.mp3\n",
      "START => Extracting https://www.youtube.com/watch?v=bI9FIz6xB-s&list=PLTcSrz4JaoGGzbQudDwyCtySmhY-r_Xwp&index=2\n",
      "OK => Saved ../swanglish_dataset/raw/79439345_alfredo-the-fish-with-gk-nyambura.webm.mp3\n",
      "START => Extracting https://www.youtube.com/watch?v=dxIsNn31XlU\n",
      "OK => Saved ../swanglish_dataset/raw/69264134_my-life-as-the-unwanted-child-abuse-by-my-uncle-navigating-life-to-finding-myself-lydia-wanjiru.webm.mp3\n",
      "START => Extracting https://www.youtube.com/watch?v=__mDrs8NB0w&list=RDCMUCJ7F5LT-7h8Hfplf6BTTiXg&start_radio=1\n",
      "OK => Saved ../swanglish_dataset/raw/90191753_how-i-overcame-self-sabotage.webm.mp3\n",
      "START => Extracting https://www.youtube.com/watch?v=8oKuuSy1ldc\n",
      "OK => Saved ../swanglish_dataset/raw/45449492_at-the-age-of-23-she-is-a-finance-coach-the-psychology-of-money-meet.webm.mp3\n",
      "START => Extracting https://www.youtube.com/watch?v=GUUxdLCzKkA\n",
      "OK => Saved ../swanglish_dataset/raw/45834874_the-suzie-wokabi-podcast-season-3-episode-5-ft-cris-njoki.webm.mp3\n",
      "START => Extracting https://www.youtube.com/watch?v=oFcOdYB1xyk\n",
      "OK => Saved ../swanglish_dataset/raw/80538417_raila-odinga-first-house-simba-jaramogi-and-fidel-grave-s-the-full-history-of-the-odinga-s.webm.mp3\n",
      "START => Extracting https://www.youtube.com/watch?v=IPL2lHSNm-E\n",
      "OK => Saved ../swanglish_dataset/raw/6967229_kamiti-beyond-reasonable-doubt-tricks-ndrendende-james-khwatenge-mirara-davis-pete-ouko.webm.mp3\n",
      "START => Extracting https://www.youtube.com/watch?v=aJ8GuSrO1Uw\n",
      "OK => Saved ../swanglish_dataset/raw/68196169_the-orange-connect-ep-8-my-love-language-is-the-reason-i-get-conned-ft-gk-nyambura.webm.mp3\n",
      "START => Extracting https://www.youtube.com/watch?v=gyzxY_t7drg\n",
      "OK => Saved ../swanglish_dataset/raw/58773862_my-father-rejected-me-my-mothers-boyfriend-abused-me-and-she-sided-with-him-here-im-rebuilding.webm.mp3\n",
      "START => Extracting https://www.youtube.com/watch?v=AD5J4GYGtOA\n",
      "OK => Saved ../swanglish_dataset/raw/43235397_ciku-muchiri-on-landing-her-first-role-as-an-extra-and-building-her-acting-career-toc-sn2-ep7.webm.mp3\n",
      "START => Extracting https://www.youtube.com/watch?v=euP_R2-SrvQ\n",
      "OK => Saved ../swanglish_dataset/raw/71484650_uhuru-caroline-shares-painful-childhood-events-that-traumatized-her-for-life.webm.mp3\n",
      "START => Extracting https://www.youtube.com/watch?v=KF3HUhXb2u4\n",
      "OK => Saved ../swanglish_dataset/raw/37219770_1112-my-childhood-experience-adelle-onyango-the-play-house.webm.mp3\n",
      "START => Extracting https://www.youtube.com/watch?v=oKWMaLm6Dtw\n",
      "OK => Saved ../swanglish_dataset/raw/65977920_girl-math-episode-119.webm.mp3\n",
      "START => Extracting https://www.youtube.com/watch?v=_5R2Fa_kgZs\n",
      "OK => Saved ../swanglish_dataset/raw/44908520_my-alcoholism-my-father-and-i-caroline-kagia.webm.mp3\n",
      "START => Extracting https://www.youtube.com/watch?v=F64-NJdN04M\n",
      "OK => Saved ../swanglish_dataset/raw/68530404_you-are-sabotaging-your-savings-stop-making-these-mistakes.webm.mp3\n",
      "START => Extracting https://www.youtube.com/watch?v=DLu3wmholOA\n",
      "OK => Saved ../swanglish_dataset/raw/59677136_how-i-got-out-of-poverty-and-bad-debt-mindset-shifts.webm.mp3\n",
      "START => Extracting https://www.youtube.com/watch?v=uUMOE3VFhEw\n",
      "OK => Saved ../swanglish_dataset/raw/73064460_let-us-take-monda-home-boni-khalwale-powerfully-supports-kisii-deputy-governor-s-impeachment.webm.mp3\n",
      "START => Extracting https://www.youtube.com/watch?v=jsaeujzL2Wo&list=PLMjEXFH8-Vmhmk3bFhq_rRxZUdRomn0mG&index=2\n",
      "OK => Saved ../swanglish_dataset/raw/34922123_murugi-munyi-i-ve-made-millions-as-a-content-creator.webm.mp3\n",
      "START => Extracting https://www.youtube.com/watch?v=JC2n4Pdst_A\n"
     ]
    },
    {
     "ename": "KeyboardInterrupt",
     "evalue": "",
     "output_type": "error",
     "traceback": [
      "\u001b[0;31m---------------------------------------------------------------------------\u001b[0m",
      "\u001b[0;31mKeyboardInterrupt\u001b[0m                         Traceback (most recent call last)",
      "Cell \u001b[0;32mIn[5], line 32\u001b[0m\n\u001b[1;32m     29\u001b[0m     pool\u001b[38;5;241m.\u001b[39mapply_async(func\u001b[38;5;241m=\u001b[39mwork, args\u001b[38;5;241m=\u001b[39m(row,))\n\u001b[1;32m     31\u001b[0m pool\u001b[38;5;241m.\u001b[39mclose()\n\u001b[0;32m---> 32\u001b[0m \u001b[43mpool\u001b[49m\u001b[38;5;241;43m.\u001b[39;49m\u001b[43mjoin\u001b[49m\u001b[43m(\u001b[49m\u001b[43m)\u001b[49m\n\u001b[1;32m     34\u001b[0m \u001b[38;5;66;03m# Create raw dataset manifest\u001b[39;00m\n\u001b[1;32m     35\u001b[0m metadata \u001b[38;5;241m=\u001b[39m pd\u001b[38;5;241m.\u001b[39mDataFrame(file_names)\n",
      "File \u001b[0;32m/opt/conda/lib/python3.10/multiprocessing/pool.py:665\u001b[0m, in \u001b[0;36mPool.join\u001b[0;34m(self)\u001b[0m\n\u001b[1;32m    663\u001b[0m \u001b[38;5;28;01melif\u001b[39;00m \u001b[38;5;28mself\u001b[39m\u001b[38;5;241m.\u001b[39m_state \u001b[38;5;129;01mnot\u001b[39;00m \u001b[38;5;129;01min\u001b[39;00m (CLOSE, TERMINATE):\n\u001b[1;32m    664\u001b[0m     \u001b[38;5;28;01mraise\u001b[39;00m \u001b[38;5;167;01mValueError\u001b[39;00m(\u001b[38;5;124m\"\u001b[39m\u001b[38;5;124mIn unknown state\u001b[39m\u001b[38;5;124m\"\u001b[39m)\n\u001b[0;32m--> 665\u001b[0m \u001b[38;5;28;43mself\u001b[39;49m\u001b[38;5;241;43m.\u001b[39;49m\u001b[43m_worker_handler\u001b[49m\u001b[38;5;241;43m.\u001b[39;49m\u001b[43mjoin\u001b[49m\u001b[43m(\u001b[49m\u001b[43m)\u001b[49m\n\u001b[1;32m    666\u001b[0m \u001b[38;5;28mself\u001b[39m\u001b[38;5;241m.\u001b[39m_task_handler\u001b[38;5;241m.\u001b[39mjoin()\n\u001b[1;32m    667\u001b[0m \u001b[38;5;28mself\u001b[39m\u001b[38;5;241m.\u001b[39m_result_handler\u001b[38;5;241m.\u001b[39mjoin()\n",
      "File \u001b[0;32m/opt/conda/lib/python3.10/threading.py:1096\u001b[0m, in \u001b[0;36mThread.join\u001b[0;34m(self, timeout)\u001b[0m\n\u001b[1;32m   1093\u001b[0m     \u001b[38;5;28;01mraise\u001b[39;00m \u001b[38;5;167;01mRuntimeError\u001b[39;00m(\u001b[38;5;124m\"\u001b[39m\u001b[38;5;124mcannot join current thread\u001b[39m\u001b[38;5;124m\"\u001b[39m)\n\u001b[1;32m   1095\u001b[0m \u001b[38;5;28;01mif\u001b[39;00m timeout \u001b[38;5;129;01mis\u001b[39;00m \u001b[38;5;28;01mNone\u001b[39;00m:\n\u001b[0;32m-> 1096\u001b[0m     \u001b[38;5;28;43mself\u001b[39;49m\u001b[38;5;241;43m.\u001b[39;49m\u001b[43m_wait_for_tstate_lock\u001b[49m\u001b[43m(\u001b[49m\u001b[43m)\u001b[49m\n\u001b[1;32m   1097\u001b[0m \u001b[38;5;28;01melse\u001b[39;00m:\n\u001b[1;32m   1098\u001b[0m     \u001b[38;5;66;03m# the behavior of a negative timeout isn't documented, but\u001b[39;00m\n\u001b[1;32m   1099\u001b[0m     \u001b[38;5;66;03m# historically .join(timeout=x) for x<0 has acted as if timeout=0\u001b[39;00m\n\u001b[1;32m   1100\u001b[0m     \u001b[38;5;28mself\u001b[39m\u001b[38;5;241m.\u001b[39m_wait_for_tstate_lock(timeout\u001b[38;5;241m=\u001b[39m\u001b[38;5;28mmax\u001b[39m(timeout, \u001b[38;5;241m0\u001b[39m))\n",
      "File \u001b[0;32m/opt/conda/lib/python3.10/threading.py:1116\u001b[0m, in \u001b[0;36mThread._wait_for_tstate_lock\u001b[0;34m(self, block, timeout)\u001b[0m\n\u001b[1;32m   1113\u001b[0m     \u001b[38;5;28;01mreturn\u001b[39;00m\n\u001b[1;32m   1115\u001b[0m \u001b[38;5;28;01mtry\u001b[39;00m:\n\u001b[0;32m-> 1116\u001b[0m     \u001b[38;5;28;01mif\u001b[39;00m \u001b[43mlock\u001b[49m\u001b[38;5;241;43m.\u001b[39;49m\u001b[43macquire\u001b[49m\u001b[43m(\u001b[49m\u001b[43mblock\u001b[49m\u001b[43m,\u001b[49m\u001b[43m \u001b[49m\u001b[43mtimeout\u001b[49m\u001b[43m)\u001b[49m:\n\u001b[1;32m   1117\u001b[0m         lock\u001b[38;5;241m.\u001b[39mrelease()\n\u001b[1;32m   1118\u001b[0m         \u001b[38;5;28mself\u001b[39m\u001b[38;5;241m.\u001b[39m_stop()\n",
      "\u001b[0;31mKeyboardInterrupt\u001b[0m: "
     ]
    },
    {
     "name": "stdout",
     "output_type": "stream",
     "text": [
      "OK => Saved ../swanglish_dataset/raw/79559498_lydia-km-on-facing-her-fears-overcoming-criticism-and-working-with-murugi-munyi-on-tmi-lnn.webm.mp3\n",
      "START => Extracting https://www.youtube.com/watch?v=g7doqbbe3-g\n",
      "OK => Saved ../swanglish_dataset/raw/22934421_amani-on-finding-god-breaking-free-marrying-her-amazing-man-and-how-she-is-rebuilding-lnn.webm.mp3\n",
      "START => Extracting https://www.youtube.com/watch?v=N0hVgFdtRU4\n",
      "OK => Saved ../swanglish_dataset/raw/65545290_eric-musyoka-legendary-producer-on-making-money-in-music-signing-p-unit.webm.mp3\n",
      "START => Extracting https://www.youtube.com/watch?v=MITuFpJrP3Y\n",
      "OK => Saved ../swanglish_dataset/raw/24851637_full-budget-reading-for-the-finacial-year-2019-2020-of-40-4trillion.webm.mp3\n",
      "START => Extracting https://www.youtube.com/watch?v=9hxwlLTovlM\n",
      "OK => Saved ../swanglish_dataset/raw/23009616_risks-involved-in-money-market-fund-investments.webm.mp3\n",
      "START => Extracting https://www.youtube.com/watch?v=N4FX591E9Q0\n",
      "OK => Saved ../swanglish_dataset/raw/85488391_15-african-presidents-who-were-assassinated-in-the-most-dangerous-ways.webm.mp3\n",
      "START => Extracting https://www.youtube.com/watch?v=pZ0LValRedc\n",
      "OK => Saved ../swanglish_dataset/raw/62514381_understanding-attachment-styles-and-dating-with-an-anxious-attachment-style-ft-lydia-km-bksp-ep-2.webm.mp3\n",
      "START => Extracting https://www.youtube.com/watch?v=K11nTB28cmc\n",
      "START => Extracting https://www.youtube.com/watch?v=WqKqUuxIGyc\n",
      "OK => Saved ../swanglish_dataset/raw/52698367_the-scam-that-is-adulthood.webm.mp3\n",
      "START => Extracting https://www.youtube.com/watch?v=XdlKXOfToG4\n",
      "OK => Saved ../swanglish_dataset/raw/32891249_things-we-learnt-while-being-single-our-journeys-in-singleness-ft-jules-and-lydia-k-m-part-one.webm.mp3\n",
      "START => Extracting https://www.youtube.com/watch?v=HJMt2TxMCNs\n",
      "OK => Saved ../swanglish_dataset/raw/73093360_i-knew-the-friendship-was-over-when-ep-95.webm.mp3\n",
      "START => Extracting https://www.youtube.com/watch?v=rooV4-fuOW8\n",
      "OK => Saved ../swanglish_dataset/raw/53815248_president-william-ruto-s-full-media-interview-full-video.webm.mp3\n",
      "START => Extracting https://www.youtube.com/watch?v=nLoiaOhM3sU\n",
      "OK => Saved ../swanglish_dataset/raw/9716121_mbithe-muema-why-you-should-be-looking-at-the-nse.webm.mp3\n",
      "START => Extracting https://www.youtube.com/watch?v=wwQyGgKmai8\n",
      "OK => Saved ../swanglish_dataset/raw/86435576_lydia-k-m-and-stephanie-ng-ang-a-on-the-hot-seat-the-sns.webm.mp3\n",
      "START => Extracting https://www.youtube.com/watch?v=ARsOEPST3oQ\n",
      "OK => Saved ../swanglish_dataset/raw/71577628_demystifying-the-money-market-fund-businessredefined.webm.mp3\n",
      "START => Extracting https://www.youtube.com/watch?v=4JN7uwlL-DM\n",
      "OK => Saved ../swanglish_dataset/raw/15576281_nowhere-to-hide-for-gachagua-angry-mama-ngina-kenyatta-finally-responds-to-dp-gachagua-today.webm.mp3\n",
      "START => Extracting https://www.youtube.com/watch?v=kTstHgXiGog\n",
      "OK => Saved ../swanglish_dataset/raw/62838904_i-m-disrespectful-to-money-when-ft-just-ivy-africa-episode-130.webm.mp3\n",
      "START => Extracting https://www.youtube.com/watch?v=A4KeY7FYMEE\n",
      "OK => Saved ../swanglish_dataset/raw/81736830_kalonzo-na-wamalwa-watishia-kurejea-kwa-maandamano-ya-azimio.webm.mp3\n",
      "START => Extracting https://www.youtube.com/watch?v=wtbqRDMjOe4\n",
      "OK => Saved ../swanglish_dataset/raw/90985103_i-don-t-recommend-these-saving-avenues.webm.mp3\n",
      "START => Extracting https://www.youtube.com/watch?v=knt7eN-BT_w\n",
      "OK => Saved ../swanglish_dataset/raw/58671719_monday-report-what-clinical-officers-want-clinical-officers-strike.webm.mp3\n",
      "START => Extracting https://www.youtube.com/watch?v=g_qxPFhZzKM\n",
      "OK => Saved ../swanglish_dataset/raw/7460642_larry-madowo-speaks-swahili-with-cnn-guest.webm.mp3\n",
      "START => Extracting https://www.youtube.com/watch?v=b_4_MeZdyk8\n",
      "OK => Saved ../swanglish_dataset/raw/76042323_cris-njoki-my-1-5m-business-loss-from-car-boot-sales-to-building-3-ikojn-stores.webm.mp3\n",
      "START => Extracting https://www.youtube.com/watch?v=pwoLqQ8UzhI\n",
      "OK => Saved ../swanglish_dataset/raw/51175722_viongozi-kutoka-nyanza-wakosoa-serikali-kwa-kurefusha-mgomo-wa-madaktari.webm.mp3\n",
      "START => Extracting https://www.youtube.com/watch?v=pDa8WLWE8sE\n",
      "OK => Saved ../swanglish_dataset/raw/96554746_kijana-eric-nyairo-wa-nyamira-atengeneza-ndege.webm.mp3\n",
      "START => Extracting https://www.youtube.com/watch?v=FQdQht5fOkg\n",
      "OK => Saved ../swanglish_dataset/raw/51411140_ajali-yatokea-barabara-kuu-ya-mombasa-nairobi.webm.mp3\n",
      "START => Extracting https://www.youtube.com/watch?v=U_pt2IiR6Rw\n",
      "OK => Saved ../swanglish_dataset/raw/12039972_investment-tips-7-investments-you-can-make-with-kes-5000.webm.mp3\n",
      "START => Extracting https://www.youtube.com/watch?v=4umjcivnchM\n",
      "OK => Saved ../swanglish_dataset/raw/78377892_mirindimo-jinsi-rais-uhuru-aonekana-kupandisha-mori-ruto-akionekana-kuelekeza-dira-yake-kwa-raila.webm.mp3\n",
      "START => Extracting https://www.youtube.com/watch?v=ejxQvn-WdSU\n",
      "OK => Saved ../swanglish_dataset/raw/13774195_kiswahili-cha-kenya-kina-vionjo-vingi-president-samia-reacts-to-speaker-ken-lusaka-s-swahili.webm.mp3\n",
      "START => Extracting https://www.youtube.com/watch?v=68Op8RboVSQ\n",
      "OK => Saved ../swanglish_dataset/raw/31773136_mdq-why-i-don-t-chase-money.webm.mp3\n",
      "START => Extracting https://www.youtube.com/watch?v=yqExytla4VU\n",
      "OK => Saved ../swanglish_dataset/raw/82874574_oscar-koome-the-power-of-investing-in-oneself-to-achieve-financial-security.webm.mp3\n",
      "START => Extracting https://www.youtube.com/watch?v=DV91AGRjR4M\n",
      "OK => Saved ../swanglish_dataset/raw/9367959_mfanyibiashara-apigwa-risasi-na-kuibiwa-milioni-nne-na-wajambazi-mtaani-eastleigh.webm.mp3\n",
      "START => Extracting https://www.youtube.com/watch?v=EZSbPYlpvj8\n"
     ]
    }
   ],
=======
   "execution_count": null,
   "metadata": {},
   "outputs": [],
>>>>>>> 35f858b (Improving audio segmentation script)
<<<<<<< HEAD
>>>>>>> 6d9ca8d (Improving audio segmentation script)
=======
=======
   "execution_count": null,
   "metadata": {},
   "outputs": [],
=======
<<<<<<< HEAD
   "execution_count": 5,
   "metadata": {},
   "outputs": [
    {
     "name": "stdout",
     "output_type": "stream",
     "text": [
      "START => Extracting https://www.youtube.com/watch?v=KqD9emPV8aYSTART => Extracting https://www.youtube.com/watch?v=5sODCCwg42wSTART => Extracting https://www.youtube.com/watch?v=geyyAZ46hOsSTART => Extracting https://www.youtube.com/watch?v=voaJasx9evISTART => Extracting https://www.youtube.com/watch?v=7ix5jbCmiDUSTART => Extracting https://www.youtube.com/watch?v=xmMfrIVufq4\n",
      "START => Extracting https://www.youtube.com/watch?v=jTpMrlMPTn4\n",
      "\n",
      "\n",
      "\n",
      "\n",
      "START => Extracting https://www.youtube.com/watch?v=YvRI_XWC5CISTART => Extracting https://www.youtube.com/watch?v=L6UumnxKBrsSTART => Extracting https://www.youtube.com/watch?v=dmzz_J9VsS8START => Extracting https://www.youtube.com/watch?v=vpAiP8Yee6s\n",
      "START => Extracting https://www.youtube.com/watch?v=wbSEy7mzsvASTART => Extracting https://www.youtube.com/watch?v=Isqfm3Ypo1USTART => Extracting https://www.youtube.com/watch?v=bs5YjWxubmI\n",
      "\n",
      "START => Extracting https://www.youtube.com/watch?v=NVPj5q2YTTESTART => Extracting https://www.youtube.com/watch?v=REH_Ocv_hcc\n",
      "\n",
      "\n",
      "\n",
      "\n",
      "\n",
      "\n"
     ]
    },
    {
     "name": "stdout",
     "output_type": "stream",
     "text": [
      "OK => Saved ../swanglish_dataset/raw/54919844_1326-a-journey-of-transitioning-from-dancer-to-musician-savara-sautisol-theplayhouse.webm.mp3\n",
      "START => Extracting https://www.youtube.com/watch?v=dgUrumRbOQk\n",
      "OK => Saved ../swanglish_dataset/raw/87769188_self-made-ke-millionaire-agrees-to-share-how-to-compound-ksh-1-million-from-ksh-20000.webm.mp3\n",
      "START => Extracting https://www.youtube.com/watch?v=S2uUW0AwhvA\n",
      "OK => Saved ../swanglish_dataset/raw/96194689_q-and-a-with-nikita-kering-could-she-be-the-one-for-me.webm.mp3\n",
      "START => Extracting https://www.youtube.com/watch?v=T7xEuF2XNHg\n",
      "OK => Saved ../swanglish_dataset/raw/47543120_how-i-ended-up-in-content-creation-earning-millions-out-of-it-murugi-munyi-shares-her-story.webm.mp3\n",
      "START => Extracting https://www.youtube.com/watch?v=hbUscssP4EI\n",
      "OK => Saved ../swanglish_dataset/raw/16836812_heres-what-happened-that-night.webm.mp3\n",
      "START => Extracting https://www.youtube.com/watch?v=4W54DQqWb1c\n",
      "OK => Saved ../swanglish_dataset/raw/27162554_not-gonna-lie-dating-in-nairobi-is-wild.webm.mp3\n",
      "START => Extracting https://www.youtube.com/watch?v=agNvI24ctiA&list=PLTcSrz4JaoGFaAGVY9Q0-iVnBAedxtKbx&index=2\n",
      "OK => Saved ../swanglish_dataset/raw/9083795_bullying-in-alliance-girls-storytime.webm.mp3\n",
      "START => Extracting https://www.youtube.com/watch?v=2XrO-Sp5sHs\n",
      "OK => Saved ../swanglish_dataset/raw/7388931_living-with-hiv-aids-has-been-hell-tiktoker-brian-chirah-opens-up-emotionally.webm.mp3\n",
      "START => Extracting https://www.youtube.com/watch?v=X4-bJOq9OU4\n",
      "OK => Saved ../swanglish_dataset/raw/88752217_day-break-speaker-moses-wetangula-and-governor-george-natembeya-s-feud-intensifies.webm.mp3\n",
      "START => Extracting https://www.youtube.com/watch?v=sw7nCA3DsbY\n",
      "OK => Saved ../swanglish_dataset/raw/83327215_school-life-conversation-mumbus-norah.webm.mp3\n",
      "START => Extracting https://www.youtube.com/watch?v=rpj9UMPBT-U&list=PLTcSrz4JaoGHSlu9WYu2yHHjg7LZKWxum\n",
      "OK => Saved ../swanglish_dataset/raw/63895522_the-baby-stealers-bbc-africa-eye-documentary.webm.mp3\n",
      "START => Extracting https://www.youtube.com/watch?v=D6v2XYqMmto\n",
      "OK => Saved ../swanglish_dataset/raw/91352203_why-you-can-t-maintain-a-healthy-relationship-with-anyone-work-on-you.webm.mp3\n",
      "START => Extracting https://www.youtube.com/watch?v=1qwigquIN60\n",
      "OK => Saved ../swanglish_dataset/raw/32083060_modern-parenting-101-cele-s-reflection.webm.mp3\n",
      "START => Extracting https://www.youtube.com/watch?v=h85BJVy79LM\n",
      "OK => Saved ../swanglish_dataset/raw/61591247_lil-maina-answers-gk-nyamburas-weird-questions.webm.mp3\n",
      "START => Extracting https://www.youtube.com/watch?v=0s1PlO95-cg\n",
      "OK => Saved ../swanglish_dataset/raw/19204358_maintaining-attraction-beyond-the-honeymoon-phase-ft-soila-curtis-mojji-nyawira-part-2.webm.mp3\n",
      "START => Extracting https://www.youtube.com/watch?v=SOMkJKHeaDo\n",
      "OK => Saved ../swanglish_dataset/raw/14200501_1443-my-childhood-upbringing-j-blessing-jibrilblessing-theplayhouse.webm.mp3\n",
      "START => Extracting https://www.youtube.com/watch?v=KGYz_7UYunc\n",
      "OK => Saved ../swanglish_dataset/raw/30118876_kk-is-thriving-in-pr-propaganda-ruto-should-dissolve-his-entire-cabinet-alfred-keter.webm.mp3\n",
      "START => Extracting https://www.youtube.com/watch?v=6nH8ylbiP_0\n",
      "OK => Saved ../swanglish_dataset/raw/55516970_i-started-my-fashion-brand-with-200-shillings-only-cris-njoki-founder-ikojn-live.webm.mp3\n",
      "START => Extracting https://www.youtube.com/watch?v=TgwXlLfZsZg\n",
      "OK => Saved ../swanglish_dataset/raw/4923724_why-just-because-she-is-religious-is-not-enough.webm.mp3\n",
      "START => Extracting https://www.youtube.com/watch?v=_F0WwvaSxOQ\n",
      "OK => Saved ../swanglish_dataset/raw/98078235_976-my-childhood-experience-mayonde-the-play-house.webm.mp3\n",
      "START => Extracting https://www.youtube.com/watch?v=jDotnsEjgOg\n",
      "OK => Saved ../swanglish_dataset/raw/63731699_kodong-kodong-ft-okello-max.webm.mp3\n",
      "START => Extracting https://www.youtube.com/watch?v=rafKy2XxoMg\n",
      "OK => Saved ../swanglish_dataset/raw/19948498_world-s-most-dangerous-roads-kenya-the-flying-trucks-of-kenya-free-documentary.webm.mp3\n",
      "START => Extracting https://www.youtube.com/watch?v=bI9FIz6xB-s&list=PLTcSrz4JaoGGzbQudDwyCtySmhY-r_Xwp&index=2\n",
      "OK => Saved ../swanglish_dataset/raw/79439345_alfredo-the-fish-with-gk-nyambura.webm.mp3\n",
      "START => Extracting https://www.youtube.com/watch?v=dxIsNn31XlU\n",
      "OK => Saved ../swanglish_dataset/raw/69264134_my-life-as-the-unwanted-child-abuse-by-my-uncle-navigating-life-to-finding-myself-lydia-wanjiru.webm.mp3\n",
      "START => Extracting https://www.youtube.com/watch?v=__mDrs8NB0w&list=RDCMUCJ7F5LT-7h8Hfplf6BTTiXg&start_radio=1\n",
      "OK => Saved ../swanglish_dataset/raw/90191753_how-i-overcame-self-sabotage.webm.mp3\n",
      "START => Extracting https://www.youtube.com/watch?v=8oKuuSy1ldc\n",
      "OK => Saved ../swanglish_dataset/raw/45449492_at-the-age-of-23-she-is-a-finance-coach-the-psychology-of-money-meet.webm.mp3\n",
      "START => Extracting https://www.youtube.com/watch?v=GUUxdLCzKkA\n",
      "OK => Saved ../swanglish_dataset/raw/45834874_the-suzie-wokabi-podcast-season-3-episode-5-ft-cris-njoki.webm.mp3\n",
      "START => Extracting https://www.youtube.com/watch?v=oFcOdYB1xyk\n",
      "OK => Saved ../swanglish_dataset/raw/80538417_raila-odinga-first-house-simba-jaramogi-and-fidel-grave-s-the-full-history-of-the-odinga-s.webm.mp3\n",
      "START => Extracting https://www.youtube.com/watch?v=IPL2lHSNm-E\n",
      "OK => Saved ../swanglish_dataset/raw/6967229_kamiti-beyond-reasonable-doubt-tricks-ndrendende-james-khwatenge-mirara-davis-pete-ouko.webm.mp3\n",
      "START => Extracting https://www.youtube.com/watch?v=aJ8GuSrO1Uw\n",
      "OK => Saved ../swanglish_dataset/raw/68196169_the-orange-connect-ep-8-my-love-language-is-the-reason-i-get-conned-ft-gk-nyambura.webm.mp3\n",
      "START => Extracting https://www.youtube.com/watch?v=gyzxY_t7drg\n",
      "OK => Saved ../swanglish_dataset/raw/58773862_my-father-rejected-me-my-mothers-boyfriend-abused-me-and-she-sided-with-him-here-im-rebuilding.webm.mp3\n",
      "START => Extracting https://www.youtube.com/watch?v=AD5J4GYGtOA\n",
      "OK => Saved ../swanglish_dataset/raw/43235397_ciku-muchiri-on-landing-her-first-role-as-an-extra-and-building-her-acting-career-toc-sn2-ep7.webm.mp3\n",
      "START => Extracting https://www.youtube.com/watch?v=euP_R2-SrvQ\n",
      "OK => Saved ../swanglish_dataset/raw/71484650_uhuru-caroline-shares-painful-childhood-events-that-traumatized-her-for-life.webm.mp3\n",
      "START => Extracting https://www.youtube.com/watch?v=KF3HUhXb2u4\n",
      "OK => Saved ../swanglish_dataset/raw/37219770_1112-my-childhood-experience-adelle-onyango-the-play-house.webm.mp3\n",
      "START => Extracting https://www.youtube.com/watch?v=oKWMaLm6Dtw\n",
      "OK => Saved ../swanglish_dataset/raw/65977920_girl-math-episode-119.webm.mp3\n",
      "START => Extracting https://www.youtube.com/watch?v=_5R2Fa_kgZs\n",
      "OK => Saved ../swanglish_dataset/raw/44908520_my-alcoholism-my-father-and-i-caroline-kagia.webm.mp3\n",
      "START => Extracting https://www.youtube.com/watch?v=F64-NJdN04M\n",
      "OK => Saved ../swanglish_dataset/raw/68530404_you-are-sabotaging-your-savings-stop-making-these-mistakes.webm.mp3\n",
      "START => Extracting https://www.youtube.com/watch?v=DLu3wmholOA\n",
      "OK => Saved ../swanglish_dataset/raw/59677136_how-i-got-out-of-poverty-and-bad-debt-mindset-shifts.webm.mp3\n",
      "START => Extracting https://www.youtube.com/watch?v=uUMOE3VFhEw\n",
      "OK => Saved ../swanglish_dataset/raw/73064460_let-us-take-monda-home-boni-khalwale-powerfully-supports-kisii-deputy-governor-s-impeachment.webm.mp3\n",
      "START => Extracting https://www.youtube.com/watch?v=jsaeujzL2Wo&list=PLMjEXFH8-Vmhmk3bFhq_rRxZUdRomn0mG&index=2\n",
      "OK => Saved ../swanglish_dataset/raw/34922123_murugi-munyi-i-ve-made-millions-as-a-content-creator.webm.mp3\n",
      "START => Extracting https://www.youtube.com/watch?v=JC2n4Pdst_A\n"
     ]
    },
    {
     "ename": "KeyboardInterrupt",
     "evalue": "",
     "output_type": "error",
     "traceback": [
      "\u001b[0;31m---------------------------------------------------------------------------\u001b[0m",
      "\u001b[0;31mKeyboardInterrupt\u001b[0m                         Traceback (most recent call last)",
      "Cell \u001b[0;32mIn[5], line 32\u001b[0m\n\u001b[1;32m     29\u001b[0m     pool\u001b[38;5;241m.\u001b[39mapply_async(func\u001b[38;5;241m=\u001b[39mwork, args\u001b[38;5;241m=\u001b[39m(row,))\n\u001b[1;32m     31\u001b[0m pool\u001b[38;5;241m.\u001b[39mclose()\n\u001b[0;32m---> 32\u001b[0m \u001b[43mpool\u001b[49m\u001b[38;5;241;43m.\u001b[39;49m\u001b[43mjoin\u001b[49m\u001b[43m(\u001b[49m\u001b[43m)\u001b[49m\n\u001b[1;32m     34\u001b[0m \u001b[38;5;66;03m# Create raw dataset manifest\u001b[39;00m\n\u001b[1;32m     35\u001b[0m metadata \u001b[38;5;241m=\u001b[39m pd\u001b[38;5;241m.\u001b[39mDataFrame(file_names)\n",
      "File \u001b[0;32m/opt/conda/lib/python3.10/multiprocessing/pool.py:665\u001b[0m, in \u001b[0;36mPool.join\u001b[0;34m(self)\u001b[0m\n\u001b[1;32m    663\u001b[0m \u001b[38;5;28;01melif\u001b[39;00m \u001b[38;5;28mself\u001b[39m\u001b[38;5;241m.\u001b[39m_state \u001b[38;5;129;01mnot\u001b[39;00m \u001b[38;5;129;01min\u001b[39;00m (CLOSE, TERMINATE):\n\u001b[1;32m    664\u001b[0m     \u001b[38;5;28;01mraise\u001b[39;00m \u001b[38;5;167;01mValueError\u001b[39;00m(\u001b[38;5;124m\"\u001b[39m\u001b[38;5;124mIn unknown state\u001b[39m\u001b[38;5;124m\"\u001b[39m)\n\u001b[0;32m--> 665\u001b[0m \u001b[38;5;28;43mself\u001b[39;49m\u001b[38;5;241;43m.\u001b[39;49m\u001b[43m_worker_handler\u001b[49m\u001b[38;5;241;43m.\u001b[39;49m\u001b[43mjoin\u001b[49m\u001b[43m(\u001b[49m\u001b[43m)\u001b[49m\n\u001b[1;32m    666\u001b[0m \u001b[38;5;28mself\u001b[39m\u001b[38;5;241m.\u001b[39m_task_handler\u001b[38;5;241m.\u001b[39mjoin()\n\u001b[1;32m    667\u001b[0m \u001b[38;5;28mself\u001b[39m\u001b[38;5;241m.\u001b[39m_result_handler\u001b[38;5;241m.\u001b[39mjoin()\n",
      "File \u001b[0;32m/opt/conda/lib/python3.10/threading.py:1096\u001b[0m, in \u001b[0;36mThread.join\u001b[0;34m(self, timeout)\u001b[0m\n\u001b[1;32m   1093\u001b[0m     \u001b[38;5;28;01mraise\u001b[39;00m \u001b[38;5;167;01mRuntimeError\u001b[39;00m(\u001b[38;5;124m\"\u001b[39m\u001b[38;5;124mcannot join current thread\u001b[39m\u001b[38;5;124m\"\u001b[39m)\n\u001b[1;32m   1095\u001b[0m \u001b[38;5;28;01mif\u001b[39;00m timeout \u001b[38;5;129;01mis\u001b[39;00m \u001b[38;5;28;01mNone\u001b[39;00m:\n\u001b[0;32m-> 1096\u001b[0m     \u001b[38;5;28;43mself\u001b[39;49m\u001b[38;5;241;43m.\u001b[39;49m\u001b[43m_wait_for_tstate_lock\u001b[49m\u001b[43m(\u001b[49m\u001b[43m)\u001b[49m\n\u001b[1;32m   1097\u001b[0m \u001b[38;5;28;01melse\u001b[39;00m:\n\u001b[1;32m   1098\u001b[0m     \u001b[38;5;66;03m# the behavior of a negative timeout isn't documented, but\u001b[39;00m\n\u001b[1;32m   1099\u001b[0m     \u001b[38;5;66;03m# historically .join(timeout=x) for x<0 has acted as if timeout=0\u001b[39;00m\n\u001b[1;32m   1100\u001b[0m     \u001b[38;5;28mself\u001b[39m\u001b[38;5;241m.\u001b[39m_wait_for_tstate_lock(timeout\u001b[38;5;241m=\u001b[39m\u001b[38;5;28mmax\u001b[39m(timeout, \u001b[38;5;241m0\u001b[39m))\n",
      "File \u001b[0;32m/opt/conda/lib/python3.10/threading.py:1116\u001b[0m, in \u001b[0;36mThread._wait_for_tstate_lock\u001b[0;34m(self, block, timeout)\u001b[0m\n\u001b[1;32m   1113\u001b[0m     \u001b[38;5;28;01mreturn\u001b[39;00m\n\u001b[1;32m   1115\u001b[0m \u001b[38;5;28;01mtry\u001b[39;00m:\n\u001b[0;32m-> 1116\u001b[0m     \u001b[38;5;28;01mif\u001b[39;00m \u001b[43mlock\u001b[49m\u001b[38;5;241;43m.\u001b[39;49m\u001b[43macquire\u001b[49m\u001b[43m(\u001b[49m\u001b[43mblock\u001b[49m\u001b[43m,\u001b[49m\u001b[43m \u001b[49m\u001b[43mtimeout\u001b[49m\u001b[43m)\u001b[49m:\n\u001b[1;32m   1117\u001b[0m         lock\u001b[38;5;241m.\u001b[39mrelease()\n\u001b[1;32m   1118\u001b[0m         \u001b[38;5;28mself\u001b[39m\u001b[38;5;241m.\u001b[39m_stop()\n",
      "\u001b[0;31mKeyboardInterrupt\u001b[0m: "
     ]
    },
    {
     "name": "stdout",
     "output_type": "stream",
     "text": [
      "OK => Saved ../swanglish_dataset/raw/79559498_lydia-km-on-facing-her-fears-overcoming-criticism-and-working-with-murugi-munyi-on-tmi-lnn.webm.mp3\n",
      "START => Extracting https://www.youtube.com/watch?v=g7doqbbe3-g\n",
      "OK => Saved ../swanglish_dataset/raw/22934421_amani-on-finding-god-breaking-free-marrying-her-amazing-man-and-how-she-is-rebuilding-lnn.webm.mp3\n",
      "START => Extracting https://www.youtube.com/watch?v=N0hVgFdtRU4\n",
      "OK => Saved ../swanglish_dataset/raw/65545290_eric-musyoka-legendary-producer-on-making-money-in-music-signing-p-unit.webm.mp3\n",
      "START => Extracting https://www.youtube.com/watch?v=MITuFpJrP3Y\n",
      "OK => Saved ../swanglish_dataset/raw/24851637_full-budget-reading-for-the-finacial-year-2019-2020-of-40-4trillion.webm.mp3\n",
      "START => Extracting https://www.youtube.com/watch?v=9hxwlLTovlM\n",
      "OK => Saved ../swanglish_dataset/raw/23009616_risks-involved-in-money-market-fund-investments.webm.mp3\n",
      "START => Extracting https://www.youtube.com/watch?v=N4FX591E9Q0\n",
      "OK => Saved ../swanglish_dataset/raw/85488391_15-african-presidents-who-were-assassinated-in-the-most-dangerous-ways.webm.mp3\n",
      "START => Extracting https://www.youtube.com/watch?v=pZ0LValRedc\n",
      "OK => Saved ../swanglish_dataset/raw/62514381_understanding-attachment-styles-and-dating-with-an-anxious-attachment-style-ft-lydia-km-bksp-ep-2.webm.mp3\n",
      "START => Extracting https://www.youtube.com/watch?v=K11nTB28cmc\n",
      "START => Extracting https://www.youtube.com/watch?v=WqKqUuxIGyc\n",
      "OK => Saved ../swanglish_dataset/raw/52698367_the-scam-that-is-adulthood.webm.mp3\n",
      "START => Extracting https://www.youtube.com/watch?v=XdlKXOfToG4\n",
      "OK => Saved ../swanglish_dataset/raw/32891249_things-we-learnt-while-being-single-our-journeys-in-singleness-ft-jules-and-lydia-k-m-part-one.webm.mp3\n",
      "START => Extracting https://www.youtube.com/watch?v=HJMt2TxMCNs\n",
      "OK => Saved ../swanglish_dataset/raw/73093360_i-knew-the-friendship-was-over-when-ep-95.webm.mp3\n",
      "START => Extracting https://www.youtube.com/watch?v=rooV4-fuOW8\n",
      "OK => Saved ../swanglish_dataset/raw/53815248_president-william-ruto-s-full-media-interview-full-video.webm.mp3\n",
      "START => Extracting https://www.youtube.com/watch?v=nLoiaOhM3sU\n",
      "OK => Saved ../swanglish_dataset/raw/9716121_mbithe-muema-why-you-should-be-looking-at-the-nse.webm.mp3\n",
      "START => Extracting https://www.youtube.com/watch?v=wwQyGgKmai8\n",
      "OK => Saved ../swanglish_dataset/raw/86435576_lydia-k-m-and-stephanie-ng-ang-a-on-the-hot-seat-the-sns.webm.mp3\n",
      "START => Extracting https://www.youtube.com/watch?v=ARsOEPST3oQ\n",
      "OK => Saved ../swanglish_dataset/raw/71577628_demystifying-the-money-market-fund-businessredefined.webm.mp3\n",
      "START => Extracting https://www.youtube.com/watch?v=4JN7uwlL-DM\n",
      "OK => Saved ../swanglish_dataset/raw/15576281_nowhere-to-hide-for-gachagua-angry-mama-ngina-kenyatta-finally-responds-to-dp-gachagua-today.webm.mp3\n",
      "START => Extracting https://www.youtube.com/watch?v=kTstHgXiGog\n",
      "OK => Saved ../swanglish_dataset/raw/62838904_i-m-disrespectful-to-money-when-ft-just-ivy-africa-episode-130.webm.mp3\n",
      "START => Extracting https://www.youtube.com/watch?v=A4KeY7FYMEE\n",
      "OK => Saved ../swanglish_dataset/raw/81736830_kalonzo-na-wamalwa-watishia-kurejea-kwa-maandamano-ya-azimio.webm.mp3\n",
      "START => Extracting https://www.youtube.com/watch?v=wtbqRDMjOe4\n",
      "OK => Saved ../swanglish_dataset/raw/90985103_i-don-t-recommend-these-saving-avenues.webm.mp3\n",
      "START => Extracting https://www.youtube.com/watch?v=knt7eN-BT_w\n",
      "OK => Saved ../swanglish_dataset/raw/58671719_monday-report-what-clinical-officers-want-clinical-officers-strike.webm.mp3\n",
      "START => Extracting https://www.youtube.com/watch?v=g_qxPFhZzKM\n",
      "OK => Saved ../swanglish_dataset/raw/7460642_larry-madowo-speaks-swahili-with-cnn-guest.webm.mp3\n",
      "START => Extracting https://www.youtube.com/watch?v=b_4_MeZdyk8\n",
      "OK => Saved ../swanglish_dataset/raw/76042323_cris-njoki-my-1-5m-business-loss-from-car-boot-sales-to-building-3-ikojn-stores.webm.mp3\n",
      "START => Extracting https://www.youtube.com/watch?v=pwoLqQ8UzhI\n",
      "OK => Saved ../swanglish_dataset/raw/51175722_viongozi-kutoka-nyanza-wakosoa-serikali-kwa-kurefusha-mgomo-wa-madaktari.webm.mp3\n",
      "START => Extracting https://www.youtube.com/watch?v=pDa8WLWE8sE\n",
      "OK => Saved ../swanglish_dataset/raw/96554746_kijana-eric-nyairo-wa-nyamira-atengeneza-ndege.webm.mp3\n",
      "START => Extracting https://www.youtube.com/watch?v=FQdQht5fOkg\n",
      "OK => Saved ../swanglish_dataset/raw/51411140_ajali-yatokea-barabara-kuu-ya-mombasa-nairobi.webm.mp3\n",
      "START => Extracting https://www.youtube.com/watch?v=U_pt2IiR6Rw\n",
      "OK => Saved ../swanglish_dataset/raw/12039972_investment-tips-7-investments-you-can-make-with-kes-5000.webm.mp3\n",
      "START => Extracting https://www.youtube.com/watch?v=4umjcivnchM\n",
      "OK => Saved ../swanglish_dataset/raw/78377892_mirindimo-jinsi-rais-uhuru-aonekana-kupandisha-mori-ruto-akionekana-kuelekeza-dira-yake-kwa-raila.webm.mp3\n",
      "START => Extracting https://www.youtube.com/watch?v=ejxQvn-WdSU\n",
      "OK => Saved ../swanglish_dataset/raw/13774195_kiswahili-cha-kenya-kina-vionjo-vingi-president-samia-reacts-to-speaker-ken-lusaka-s-swahili.webm.mp3\n",
      "START => Extracting https://www.youtube.com/watch?v=68Op8RboVSQ\n",
      "OK => Saved ../swanglish_dataset/raw/31773136_mdq-why-i-don-t-chase-money.webm.mp3\n",
      "START => Extracting https://www.youtube.com/watch?v=yqExytla4VU\n",
      "OK => Saved ../swanglish_dataset/raw/82874574_oscar-koome-the-power-of-investing-in-oneself-to-achieve-financial-security.webm.mp3\n",
      "START => Extracting https://www.youtube.com/watch?v=DV91AGRjR4M\n",
      "OK => Saved ../swanglish_dataset/raw/9367959_mfanyibiashara-apigwa-risasi-na-kuibiwa-milioni-nne-na-wajambazi-mtaani-eastleigh.webm.mp3\n",
      "START => Extracting https://www.youtube.com/watch?v=EZSbPYlpvj8\n"
     ]
    }
   ],
>>>>>>> 7978a88 (Improving audio segmentation script)
=======
   "execution_count": null,
   "metadata": {},
   "outputs": [],
>>>>>>> 35f858b (Improving audio segmentation script)
<<<<<<< HEAD
>>>>>>> 1ddd20f (Improving audio segmentation script)
=======
<<<<<<< HEAD
=======
>>>>>>> 6d9ca8d (Improving audio segmentation script)
>>>>>>> 7978a88 (Improving audio segmentation script)
>>>>>>> 11fcaa0 (Improving audio segmentation script)
   "source": [
    "import multiprocessing\n",
    "\n",
    "# Clean up\n",
    "if os.path.exists(OUTPUT_DIR):\n",
    "    shutil.rmtree(OUTPUT_DIR)\n",
    "\n",
    "# Extract media URLs from CSV file\n",
    "df = pd.read_csv(MEDIA_SOURCE)\n",
    "file_names = []\n",
    "\n",
    "\n",
    "def work(row):\n",
    "    print(f\"START => Extracting {row['Audio']}\")\n",
    "    final_file, title = download_audio_from_youtube(row[\"Audio\"], f\"{OUTPUT_DIR}/raw\")\n",
    "    if final_file is not None and title is not None:\n",
    "        file_names.append(\n",
    "            {\n",
    "                \"file_name\": final_file.replace(\"../tmp/swanglish_dataset/\", \"\"),\n",
    "                \"title\": title,\n",
    "                \"url\": row[\"Audio\"],\n",
    "            }\n",
    "        )\n",
    "        print(f\"OK => Saved {final_file}\")\n",
    "\n",
    "\n",
    "# Start of parallel processing\n",
    "pool = multiprocessing.Pool(32)\n",
    "for idx, row in df.loc[0:50, [\"Audio\"]].iterrows():\n",
    "    pool.apply_async(func=work, args=(row,))\n",
    "\n",
    "pool.close()\n",
    "pool.join()\n",
    "\n",
    "# Create raw dataset manifest\n",
    "metadata = pd.DataFrame(file_names)\n",
    "metadata.to_csv(f\"{OUTPUT_DIR}/raw_metadata.csv\", index=False)\n",
    "\n",
    "print(\"COMPLETE => Raw data successfully downloaded\")"
   ]
  },
  {
   "cell_type": "markdown",
   "metadata": {},
   "source": [
    "## Dataset Builder\n",
    "\n",
    "The final dataset will be built from this section going downwards. Please refer to the reference below:\n",
    "\n",
    "<https://huggingface.co/docs/datasets/en/audio_dataset>\n"
   ]
  },
  {
   "cell_type": "code",
   "execution_count": null,
   "metadata": {},
   "outputs": [],
   "source": [
    "# sys.path.append(\"../\")\n",
    "import sys, os\n",
    "import pandas as pd\n",
    "\n",
    "# from app.main import process_audio_file_task\n",
    "from pydub import AudioSegment\n"
   ]
  },
  {
   "cell_type": "code",
   "execution_count": null,
   "metadata": {},
   "outputs": [],
   "source": [
    "# Setup some runtime variables\n",
    "\n",
    "\n",
    "PARENT_DIR = \"..\"\n",
    "DATASET_NAME = \"swanglish_dataset\"\n",
    "SOURCE_DIR = f\"{PARENT_DIR}/tmp/{DATASET_NAME}/data\"\n",
    "print(SOURCE_DIR)\n",
    "OUTPUT_DIR = f\"{PARENT_DIR}/tmp/{DATASET_NAME}\"\n",
    "print(OUTPUT_DIR)\n",
    "CSV_FILE = f\"{PARENT_DIR}/tmp/{DATASET_NAME}/metadata.csv\"\n",
    "SPLIT_LENGTH = 28 * 1000  # in milliseconds"
   ]
  },
  {
   "cell_type": "code",
   "execution_count": null,
   "metadata": {},
   "outputs": [],
   "source": [
    "# sys.path.append(\"../\")\n",
    "import sys, os\n",
    "import pandas as pd\n",
    "\n",
    "# from app.main import process_audio_file_task\n",
    "from pydub import AudioSegment\n",
    "\n",
    "PARENT_DIR = \"..\"\n",
    "DATASET_NAME = \"swanglish_dataset\"\n",
    "SOURCE_DIR = f\"{PARENT_DIR}/tmp/{DATASET_NAME}/data\"\n",
    "print(SOURCE_DIR)\n",
    "OUTPUT_DIR = f\"{PARENT_DIR}/tmp/{DATASET_NAME}\"\n",
    "print(OUTPUT_DIR)\n",
    "CSV_FILE = f\"{PARENT_DIR}/tmp/{DATASET_NAME}/metadata.csv\"\n",
    "SPLIT_LENGTH = 28 * 1000  # in milliseconds\n",
    "\n",
    "# Create the output folder if it doesn't exist\n",
    "print(SOURCE_DIR)\n",
    "if not os.path.exists(OUTPUT_DIR):\n",
    "    os.makedirs(OUTPUT_DIR)\n",
    "    os.makedirs(f\"{OUTPUT_DIR}/data\")\n",
    "\n",
    "# Load media files\n",
    "media_files = [file for file in os.listdir(SOURCE_DIR)]\n",
    "media_files\n",
    "\n",
    "# Prepare metadata dataframe\n",
    "metadata = pd.DataFrame(columns=[\"file_path\"])\n",
    "\n",
    "# Split each media file into multiple pieces\n",
    "for file in media_files:\n",
    "    audio = AudioSegment.from_mp3(f\"{SOURCE_DIR}/{file}\")\n",
    "\n",
    "    # Calculate the total duration of the audio in milliseconds\n",
    "    total_duration_ms = len(audio)\n",
    "\n",
    "    # Calculate the number of splits needed\n",
    "    num_splits = total_duration_ms // SPLIT_LENGTH\n",
    "\n",
    "    # Split the audio into pieces of specified length\n",
    "    for i in range(num_splits):\n",
    "        start_time = i * SPLIT_LENGTH\n",
    "        end_time = (i + 1) * SPLIT_LENGTH\n",
    "\n",
    "        output_file = os.path.join(\n",
    "            f\"{OUTPUT_DIR}/data\", f\"{file.replace('.webm.mp3', '')}_{i}.mp3\"\n",
    "        )\n",
    "        print(output_file)\n",
    "        audio_chunk = audio[start_time:end_time]\n",
    "        audio_chunk.export(output_file, format=\"mp3\")\n",
    "\n",
    "        # Save each split in the dataframe\n",
    "        metadata = pd.concat(\n",
    "            [\n",
    "                metadata,\n",
    "                pd.DataFrame(\n",
    "                    [\n",
    "                        {\n",
    "                            \"file_path\": output_file.replace(\n",
    "                                f\"{OUTPUT_DIR}/data\", \"data\"\n",
    "                            ),\n",
    "                            \"text\": None,\n",
    "                        }\n",
    "                    ]\n",
    "                ),\n",
    "            ],\n",
    "            ignore_index=True,\n",
    "        )\n",
    "        print(f\"OK => Saved split to {output_file}...\")\n",
    "\n",
    "# Save metadata file to CSV\n",
    "metadata.to_csv(CSV_FILE, index=False)"
   ]
  },
  {
   "cell_type": "code",
   "execution_count": null,
   "metadata": {},
   "outputs": [],
   "source": []
  },
  {
   "cell_type": "code",
   "execution_count": null,
   "metadata": {},
   "outputs": [],
   "source": []
  }
 ],
 "metadata": {
  "kernelspec": {
   "display_name": "Python 3",
   "language": "python",
   "name": "python3"
  },
  "language_info": {
   "codemirror_mode": {
    "name": "ipython",
    "version": 3
   },
   "file_extension": ".py",
   "mimetype": "text/x-python",
   "name": "python",
   "nbconvert_exporter": "python",
   "pygments_lexer": "ipython3",
<<<<<<< HEAD
<<<<<<< HEAD
<<<<<<< HEAD
   "version": "3.9.6"
=======
=======
>>>>>>> 1ddd20f (Improving audio segmentation script)
=======
>>>>>>> 11fcaa0 (Improving audio segmentation script)
<<<<<<< HEAD
   "version": "3.10.14"
=======
   "version": "3.9.6"
>>>>>>> 35f858b (Improving audio segmentation script)
<<<<<<< HEAD
>>>>>>> 6d9ca8d (Improving audio segmentation script)
=======
=======
   "version": "3.9.6"
>>>>>>> 35f858b (Improving audio segmentation script)
<<<<<<< HEAD
>>>>>>> 1ddd20f (Improving audio segmentation script)
=======
=======
   "version": "3.9.6"
=======
<<<<<<< HEAD
   "version": "3.10.14"
=======
   "version": "3.9.6"
>>>>>>> 35f858b (Improving audio segmentation script)
>>>>>>> 6d9ca8d (Improving audio segmentation script)
>>>>>>> 7978a88 (Improving audio segmentation script)
>>>>>>> 11fcaa0 (Improving audio segmentation script)
  }
 },
 "nbformat": 4,
 "nbformat_minor": 2
}
