{
 "cells": [
  {
   "cell_type": "code",
   "execution_count": 41,
   "metadata": {},
   "outputs": [],
   "source": [
    "# %pip install shutils pandas librosa soundfile pandas ffmpeg-python"
   ]
  },
  {
   "cell_type": "code",
   "execution_count": 42,
   "metadata": {},
   "outputs": [],
   "source": [
    "import sys\n",
    "\n",
    "sys.path.append(\"../\")\n",
    "import shutil\n",
    "import os\n",
    "import pandas as pd\n",
    "from concurrent.futures import ProcessPoolExecutor, as_completed\n",
    "# from app.main import process_audio_file_task\n",
    "from lib.audio import splice_audio_stream"
   ]
  },
  {
   "cell_type": "code",
   "execution_count": 43,
   "metadata": {},
   "outputs": [],
   "source": [
    "NUM_WORKERS = 1\n",
    "\n",
    "# Set paths\n",
    "PARENT_DIR = '/Users/paul.mutemi/Documents/ccai'\n",
    "MANIFEST = f\"{PARENT_DIR}/tmp/csv\"\n",
    "ORIGIN_PATH = f\"{PARENT_DIR}/tmp\"\n",
    "DESTINATION_DIR = f\"{PARENT_DIR}/tmp/segments\"\n",
    "CSV_FILE = f\"{MANIFEST}/segments.csv\"\n",
    "\n"
   ]
  },
  {
   "cell_type": "code",
   "execution_count": 44,
   "metadata": {},
   "outputs": [
    {
     "name": "stdout",
     "output_type": "stream",
     "text": [
      "OK => /Users/paul.mutemi/Documents/ccai/tmp/segments has been removed\n",
      "OK => /Users/paul.mutemi/Documents/ccai/tmp/csv has been removed\n",
      "OK => Creating destination_folder\n",
      "Ok => Created /Users/paul.mutemi/Documents/ccai/tmp/segments\n",
      "Ok => Created /Users/paul.mutemi/Documents/ccai/tmp/csv\n"
     ]
    }
   ],
   "source": [
    "if os.path.exists(DESTINATION_DIR):\n",
    "    shutil.rmtree(DESTINATION_DIR, ignore_errors=True)\n",
    "    print(f\"OK => {DESTINATION_DIR} has been removed\")\n",
    "    \n",
    "if os.path.exists(MANIFEST):\n",
    "    shutil.rmtree(MANIFEST, ignore_errors=True)\n",
    "    print(f\"OK => {MANIFEST} has been removed\")\n",
    "    \n",
    "if not os.path.exists(DESTINATION_DIR):\n",
    "    print(\"OK => Creating destination_folder\")\n",
    "    os.makedirs(DESTINATION_DIR)\n",
    "    print(f\"Ok => Created {DESTINATION_DIR}\")\n",
    "    os.makedirs(MANIFEST)\n",
    "    print(f\"Ok => Created {MANIFEST}\")    "
   ]
  },
  {
   "cell_type": "code",
   "execution_count": 45,
   "metadata": {},
   "outputs": [
    {
     "name": "stdout",
     "output_type": "stream",
     "text": [
      "Segmenting audio files!\n",
      "Saved dataframe in: /Users/paul.mutemi/Documents/ccai/tmp/csv/segments.csv\n"
     ]
    }
   ],
   "source": [
    "print(\"Segmenting audio files!\")\n",
    "\n",
    "all_file_names = [\n",
    "    os.path.join(ORIGIN_PATH, f)\n",
    "    for f in os.listdir(ORIGIN_PATH)\n",
    "    if os.path.splitext(f)[1] in [\".mp3\", \".wav\", \".m4a\", \".aac\"]\n",
    "]\n",
    "data = []\n",
    "\n",
    "with ProcessPoolExecutor(max_workers=NUM_WORKERS) as executor:\n",
    "    futures = [\n",
    "        executor.submit(splice_audio_stream, file_path, DESTINATION_DIR)\n",
    "        for file_path in all_file_names\n",
    "    ]\n",
    "    for future in as_completed(futures):\n",
    "        data.extend(future.result())\n",
    "\n",
    "df = pd.DataFrame(data)\n",
    "df.to_csv(CSV_FILE, index=False)\n",
    "\n",
    "print(f\"Saved dataframe in: {CSV_FILE}\")"
   ]
  },
  {
   "cell_type": "code",
   "execution_count": null,
   "metadata": {},
   "outputs": [],
   "source": []
  }
 ],
 "metadata": {
  "kernelspec": {
   "display_name": "Python 3",
   "language": "python",
   "name": "python3"
  },
  "language_info": {
   "codemirror_mode": {
    "name": "ipython",
    "version": 3
   },
   "file_extension": ".py",
   "mimetype": "text/x-python",
   "name": "python",
   "nbconvert_exporter": "python",
   "pygments_lexer": "ipython3",
   "version": "3.9.6"
  }
 },
 "nbformat": 4,
 "nbformat_minor": 2
}
